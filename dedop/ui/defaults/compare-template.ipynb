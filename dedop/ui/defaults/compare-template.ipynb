{
 "cells": [
  {
   "cell_type": "markdown",
   "metadata": {},
   "source": [
    "# DeDop L1B Comparison\n",
    "\n",
    "Use the following plot methods for displaying scaled waveform data:\n",
    "* `plot.locations()` - to draw the footprints of the two L1B product\n",
    "* `plot.waveforms_diff_im()` - to draw the waveforms difference image\n",
    "* `plot.waveforms_scatter()` - to draw the waveforms scatter plot\n",
    "* `p1/p2.plot.waveform()` - to draw simple waveform line plots\n",
    "* `p1/p2.plot.waveform_im()` - to draw a waveform image\n",
    "* `p1/p2.plot.waveform_hist()` to draw waveform histograms\n",
    "\n",
    "Use the following methods for displaying any other variables:\n",
    "* `p1/p2.plot.line(x, y)` - to draw two 1D variables (line plots)\n",
    "* `p1/p2.plot.im_line(z)` - to draw a 2D variable (images + and line plots)\n",
    "* `p1/p2.plot.im(z)` - to draw a 2D variable (images)\n"
   ]
  },
  {
   "cell_type": "code",
   "execution_count": 1,
   "metadata": {
    "collapsed": false
   },
   "outputs": [],
   "source": [
    "from dedop.ui.compare import compare_l1b_products\n",
    "%matplotlib inline"
   ]
  },
  {
   "cell_type": "code",
   "execution_count": null,
   "metadata": {
    "collapsed": false
   },
   "outputs": [],
   "source": [
    "comp = compare_l1b_products(__L1B_FILE_PATH_1__, __L1B_FILE_PATH_2__)"
   ]
  },
  {
   "cell_type": "code",
   "execution_count": null,
   "metadata": {
    "collapsed": false
   },
   "outputs": [],
   "source": [
    "comp.plot.locations()"
   ]
  },
  {
   "cell_type": "code",
   "execution_count": null,
   "metadata": {
    "collapsed": false
   },
   "outputs": [],
   "source": [
    "comp.plot.waveforms_delta_im()"
   ]
  },
  {
   "cell_type": "code",
   "execution_count": null,
   "metadata": {
    "collapsed": false
   },
   "outputs": [],
   "source": [
    "comp.plot.waveforms_scatter()"
   ]
  },
  {
   "cell_type": "code",
   "execution_count": null,
   "metadata": {
    "collapsed": true
   },
   "outputs": [],
   "source": []
  }
 ],
 "metadata": {
  "kernelspec": {
   "display_name": "Python 3",
   "language": "python",
   "name": "python3"
  },
  "language_info": {
   "codemirror_mode": {
    "name": "ipython",
    "version": 3
   },
   "file_extension": ".py",
   "mimetype": "text/x-python",
   "name": "python",
   "nbconvert_exporter": "python",
   "pygments_lexer": "ipython3",
   "version": "3.5.2"
  }
 },
 "nbformat": 4,
 "nbformat_minor": 0
}
