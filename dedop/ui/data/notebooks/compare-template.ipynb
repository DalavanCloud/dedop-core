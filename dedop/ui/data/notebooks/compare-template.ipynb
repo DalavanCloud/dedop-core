{
 "cells": [
  {
   "cell_type": "markdown",
   "metadata": {},
   "source": [
    "# DeDop L1B Comparison\n",
    "\n",
    "Use the following plot methods for displaying scaled waveform data:\n",
    "* `comp.plot.waveforms_delta_im()` - to draw the waveforms difference image\n",
    "* `comp.plot.waveforms_scatter()` - to draw the waveforms scatter plot\n",
    "* `comp.p1/p2.plot.waveform_line()` - to draw a simple waveform line plot\n",
    "* `comp.p1/p2.plot.waveform_im()` - to draw a waveform image\n",
    "* `comp.p1/p2.plot.waveform_hist()` to draw a waveform histogram\n",
    "* `comp.plot.locations()` - to draw the footprints of the two L1B products on a map\n",
    "\n",
    "Use the following generic methods for displaying any other variables:\n",
    "* `comp.p1/p2.plot.line(x, y)` - to draw two 1D variables (line plots)\n",
    "* `comp.p1/p2.plot.im_line(z)` - to draw a 2D variable (images + and line plots)\n",
    "* `comp.p1/p2.plot.im(z)` - to draw a 2D variable (images)\n",
    "\n",
    "Usage hints:\n",
    "* In menu **Cell** select **Run All** to run all notebook *cells*\n",
    "* Place cursor over a any field or function in a cell and press **SHIFT** + **TAB** to display help on\n",
    "  that element.\n",
    "* Type `comp.` or `comp.plot.` then press **TAB** key to get a list of available\n",
    "  elements of the `comp` and `comp.plot` objects for auto-completion.\n"
   ]
  },
  {
   "cell_type": "code",
   "execution_count": 1,
   "metadata": {
    "collapsed": false
   },
   "outputs": [],
   "source": [
    "from dedop.ui.compare import compare_l1b_products\n",
    "%matplotlib inline"
   ]
  },
  {
   "cell_type": "code",
   "execution_count": null,
   "metadata": {
    "collapsed": false
   },
   "outputs": [],
   "source": [
    "comp = compare_l1b_products(__L1B_FILE_PATH_1__,\n",
    "                            __L1B_FILE_PATH_2__)"
   ]
  },
  {
   "cell_type": "code",
   "execution_count": null,
   "metadata": {
    "collapsed": false
   },
   "outputs": [],
   "source": [
    "comp.plot.locations()"
   ]
  },
  {
   "cell_type": "code",
   "execution_count": null,
   "metadata": {
    "collapsed": false
   },
   "outputs": [],
   "source": [
    "comp.plot.waveforms_delta_im()"
   ]
  },
  {
   "cell_type": "code",
   "execution_count": null,
   "metadata": {
    "collapsed": false
   },
   "outputs": [],
   "source": [
    "comp.plot.waveforms_scatter()"
   ]
  },
  {
   "cell_type": "code",
   "execution_count": null,
   "metadata": {
    "collapsed": false
   },
   "outputs": [],
   "source": [
    "comp.waveforms"
   ]
  },
  {
   "cell_type": "code",
   "execution_count": null,
   "metadata": {
    "collapsed": false
   },
   "outputs": [],
   "source": [
    "comp.waveforms_delta"
   ]
  },
  {
   "cell_type": "code",
   "execution_count": null,
   "metadata": {
    "collapsed": false
   },
   "outputs": [],
   "source": [
    "comp.waveforms_delta.min(), comp.waveforms_delta.max()"
   ]
  },
  {
   "cell_type": "code",
   "execution_count": null,
   "metadata": {
    "collapsed": true
   },
   "outputs": [],
   "source": []
  }
 ],
 "metadata": {
  "kernelspec": {
   "display_name": "Python 3",
   "language": "python",
   "name": "python3"
  },
  "language_info": {
   "codemirror_mode": {
    "name": "ipython",
    "version": 3
   },
   "file_extension": ".py",
   "mimetype": "text/x-python",
   "name": "python",
   "nbconvert_exporter": "python",
   "pygments_lexer": "ipython3",
   "version": "3.5.2"
  }
 },
 "nbformat": 4,
 "nbformat_minor": 0
}
